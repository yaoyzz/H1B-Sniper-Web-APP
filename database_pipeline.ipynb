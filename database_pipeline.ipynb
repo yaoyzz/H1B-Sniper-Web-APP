{
 "cells": [
  {
   "cell_type": "code",
   "execution_count": 3,
   "id": "7b2082d4-dcd6-410a-acc7-1da29c698e89",
   "metadata": {},
   "outputs": [],
   "source": [
    "import pandas as pd\n",
    "import psycopg, os"
   ]
  },
  {
   "cell_type": "code",
   "execution_count": 11,
   "id": "ccb9e48e-2938-4628-80c8-1536d29696ff",
   "metadata": {},
   "outputs": [
    {
     "name": "stdout",
     "output_type": "stream",
     "text": [
      "Connecting to the PostgreSQL database...\n"
     ]
    }
   ],
   "source": [
    "print('Connecting to the PostgreSQL database...')\n",
    "conn = psycopg.connect(\n",
    "    host=\"localhost\",\n",
    "    port='5432',\n",
    "    dbname=\"5400_h1b\",\n",
    "    user=\"postgres\",\n",
    "    password=\"123\")\n",
    "\n",
    "# create a cursor\n",
    "cur = conn.cursor()"
   ]
  },
  {
   "cell_type": "code",
   "execution_count": 6,
   "id": "187b53bb-e2ea-4573-a669-2e8a8bc8b658",
   "metadata": {},
   "outputs": [
    {
     "name": "stderr",
     "output_type": "stream",
     "text": [
      "C:\\Users\\david\\AppData\\Local\\Temp\\ipykernel_17772\\980505980.py:1: DtypeWarning: Columns (4,28,35,36,41,42,76,78,82,85,89,96,97,98,99) have mixed types. Specify dtype option on import or set low_memory=False.\n",
      "  df = pd.read_csv('h1b_rocord_2020_to_2023.csv')\n"
     ]
    }
   ],
   "source": [
    "df = pd.read_csv('h1b_rocord_2020_to_2023.csv')"
   ]
  },
  {
   "cell_type": "code",
   "execution_count": null,
   "id": "c75c04a6-8d4f-42fb-8f5f-6c6593721b02",
   "metadata": {},
   "outputs": [],
   "source": []
  },
  {
   "cell_type": "code",
   "execution_count": 12,
   "id": "bd0fc7aa-664f-44c6-be5b-9b9933a342d1",
   "metadata": {},
   "outputs": [
    {
     "data": {
      "text/plain": [
       "<psycopg.Cursor [COMMAND_OK] [INTRANS] (host=localhost user=postgres database=5400_h1b) at 0x213e57af060>"
      ]
     },
     "execution_count": 12,
     "metadata": {},
     "output_type": "execute_result"
    }
   ],
   "source": [
    "# Create Job, Employer, Agent_attorney, Wage, Prevailing_wage, and Preparer tables\n",
    "cur.execute(\"\"\"\n",
    "CREATE TABLE Job (\n",
    "    case_number VARCHAR(255),\n",
    "    case_status VARCHAR(255),\n",
    "    received_date DATE,\n",
    "    decision_date DATE,\n",
    "    visa_class VARCHAR(255),\n",
    "    job_title VARCHAR(255),\n",
    "    soc_code VARCHAR(255),\n",
    "    soc_title VARCHAR(255),\n",
    "    full_time_position BOOLEAN,\n",
    "    begin_date DATE,\n",
    "    end_date DATE,\n",
    "    total_worker_positions INTEGER,\n",
    "    new_employment BOOLEAN,\n",
    "    continued_employment BOOLEAN,\n",
    "    change_previous_employment BOOLEAN,\n",
    "    new_concurrent_employment BOOLEAN,\n",
    "    change_employer BOOLEAN,\n",
    "    amended_petition BOOLEAN\n",
    ");\n",
    "\"\"\")\n",
    "cur.execute(\"\"\"\n",
    "CREATE TABLE Employer (\n",
    "    case_number VARCHAR(255),\n",
    "    employer_name VARCHAR(255),\n",
    "    trade_name_dba VARCHAR(255),\n",
    "    employer_address1 VARCHAR(255),\n",
    "    employer_address2 VARCHAR(255),\n",
    "    employer_city VARCHAR(255),\n",
    "    employer_state VARCHAR(255),\n",
    "    employer_postal_code VARCHAR(255),\n",
    "    employer_country VARCHAR(255),\n",
    "    naics_code VARCHAR(255),\n",
    "    employer_poc_last_name VARCHAR(255),\n",
    "    employer_poc_first_name VARCHAR(255),\n",
    "    employer_poc_middle_name VARCHAR(255),\n",
    "    employer_poc_job_title VARCHAR(255),\n",
    "    employer_poc_address1 VARCHAR(255),\n",
    "    employer_poc_address2 VARCHAR(255),\n",
    "    employer_poc_city VARCHAR(255),\n",
    "    employer_poc_state VARCHAR(255),\n",
    "    employer_poc_postal_code VARCHAR(255),\n",
    "    employer_poc_country VARCHAR(255),\n",
    "    employer_poc_phone VARCHAR(255),\n",
    "    employer_poc_phone_ext VARCHAR(255),\n",
    "    employer_poc_email VARCHAR(255),\n",
    "    employer_poc_address_1 VARCHAR(255),\n",
    "    employer_poc_address_2 VARCHAR(255),\n",
    "    h1b_dependent VARCHAR(255),\n",
    "    h_1b_dependent VARCHAR(255)\n",
    ");\n",
    "\"\"\")\n",
    "cur.execute(\"\"\"\n",
    "CREATE TABLE Agent_attorney (\n",
    "    case_number VARCHAR(255),\n",
    "    agent_representing_employer BOOLEAN,\n",
    "    agent_attorney_last_name VARCHAR(255),\n",
    "    agent_attorney_first_name VARCHAR(255),\n",
    "    agent_attorney_middle_name VARCHAR(255),\n",
    "    agent_attorney_address1 VARCHAR(255),\n",
    "    agent_attorney_address2 VARCHAR(255),\n",
    "    agent_attorney_city VARCHAR(255),\n",
    "    agent_attorney_state VARCHAR(255),\n",
    "    agent_attorney_postal_code VARCHAR(255),\n",
    "    agent_attorney_country VARCHAR(255),\n",
    "    agent_attorney_phone VARCHAR(255),\n",
    "    agent_attorney_phone_ext VARCHAR(255),\n",
    "    agent_attorney_email_address VARCHAR(255)\n",
    ");\n",
    "\"\"\")\n",
    "cur.execute(\"\"\"\n",
    "CREATE TABLE Wage (\n",
    "    case_number VARCHAR(255),\n",
    "    wage_rate_of_pay_from FLOAT,\n",
    "    wage_rate_of_pay_to FLOAT,\n",
    "    wage_unit_of_pay VARCHAR(255)\n",
    ");\n",
    "\"\"\")\n",
    "cur.execute(\"\"\"\n",
    "CREATE TABLE Prevailing_wage (\n",
    "    case_number VARCHAR(255),\n",
    "    prevailing_wage FLOAT,\n",
    "    pw_unit_of_pay VARCHAR(255),\n",
    "    pw_tracking_number VARCHAR(255),\n",
    "    pw_wage_level VARCHAR(255),\n",
    "    pw_oes_year VARCHAR(255),\n",
    "    pw_other_source VARCHAR(255),\n",
    "    pw_other_year VARCHAR(255),\n",
    "    pw_survey_publisher VARCHAR(255),\n",
    "    pw_survey_name VARCHAR(255)\n",
    ");\n",
    "\"\"\")\n",
    "\n",
    "# Create Preparer table\n",
    "cur.execute(\"\"\"\n",
    "CREATE TABLE Preparer (\n",
    "    case_number VARCHAR(255),\n",
    "    preparer_last_name VARCHAR(255),\n",
    "    preparer_first_name VARCHAR(255),\n",
    "    preparer_middle_initial VARCHAR(255),\n",
    "    preparer_business_name VARCHAR(255),\n",
    "    preparer_email VARCHAR(255)\n",
    ");\n",
    "\"\"\")"
   ]
  },
  {
   "cell_type": "code",
   "execution_count": 14,
   "id": "449801af-57ee-40c4-b08d-637cedea28e3",
   "metadata": {},
   "outputs": [],
   "source": [
    "conn.commit()"
   ]
  },
  {
   "cell_type": "code",
   "execution_count": 16,
   "id": "b95f8366-344d-44da-a8bc-dc4eb7713724",
   "metadata": {},
   "outputs": [
    {
     "ename": "DatatypeMismatch",
     "evalue": "column \"new_employment\" is of type boolean but expression is of type smallint\nLINE 1: ...1, $2, $3, $4, $5, $6, $7, $8, $9, $10, $11, $12, $13, $14, ...\n                                                             ^\nHINT:  You will need to rewrite or cast the expression.",
     "output_type": "error",
     "traceback": [
      "\u001b[1;31m---------------------------------------------------------------------------\u001b[0m",
      "\u001b[1;31mDatatypeMismatch\u001b[0m                          Traceback (most recent call last)",
      "Cell \u001b[1;32mIn[16], line 3\u001b[0m\n\u001b[0;32m      1\u001b[0m \u001b[38;5;66;03m# Insert data into Job table\u001b[39;00m\n\u001b[0;32m      2\u001b[0m \u001b[38;5;28;01mfor\u001b[39;00m index, row \u001b[38;5;129;01min\u001b[39;00m df\u001b[38;5;241m.\u001b[39miterrows():\n\u001b[1;32m----> 3\u001b[0m     \u001b[43mcur\u001b[49m\u001b[38;5;241;43m.\u001b[39;49m\u001b[43mexecute\u001b[49m\u001b[43m(\u001b[49m\u001b[38;5;124;43m\"\u001b[39;49m\u001b[38;5;124;43mINSERT INTO Job (case_number, case_status, received_date, decision_date, visa_class, \u001b[39;49m\u001b[38;5;130;43;01m\\\u001b[39;49;00m\n\u001b[0;32m      4\u001b[0m \u001b[38;5;124;43m    job_title, soc_code, soc_title, full_time_position, begin_date, end_date, total_worker_positions, \u001b[39;49m\u001b[38;5;130;43;01m\\\u001b[39;49;00m\n\u001b[0;32m      5\u001b[0m \u001b[38;5;124;43m    new_employment, continued_employment, change_previous_employment, new_concurrent_employment, \u001b[39;49m\u001b[38;5;130;43;01m\\\u001b[39;49;00m\n\u001b[0;32m      6\u001b[0m \u001b[38;5;124;43m    change_employer, amended_petition) \u001b[39;49m\u001b[38;5;130;43;01m\\\u001b[39;49;00m\n\u001b[0;32m      7\u001b[0m \u001b[38;5;124;43m    VALUES (\u001b[39;49m\u001b[38;5;132;43;01m%s\u001b[39;49;00m\u001b[38;5;124;43m, \u001b[39;49m\u001b[38;5;132;43;01m%s\u001b[39;49;00m\u001b[38;5;124;43m, \u001b[39;49m\u001b[38;5;132;43;01m%s\u001b[39;49;00m\u001b[38;5;124;43m, \u001b[39;49m\u001b[38;5;132;43;01m%s\u001b[39;49;00m\u001b[38;5;124;43m, \u001b[39;49m\u001b[38;5;132;43;01m%s\u001b[39;49;00m\u001b[38;5;124;43m, \u001b[39;49m\u001b[38;5;132;43;01m%s\u001b[39;49;00m\u001b[38;5;124;43m, \u001b[39;49m\u001b[38;5;132;43;01m%s\u001b[39;49;00m\u001b[38;5;124;43m, \u001b[39;49m\u001b[38;5;132;43;01m%s\u001b[39;49;00m\u001b[38;5;124;43m, \u001b[39;49m\u001b[38;5;132;43;01m%s\u001b[39;49;00m\u001b[38;5;124;43m, \u001b[39;49m\u001b[38;5;132;43;01m%s\u001b[39;49;00m\u001b[38;5;124;43m, \u001b[39;49m\u001b[38;5;132;43;01m%s\u001b[39;49;00m\u001b[38;5;124;43m, \u001b[39;49m\u001b[38;5;132;43;01m%s\u001b[39;49;00m\u001b[38;5;124;43m, \u001b[39;49m\u001b[38;5;132;43;01m%s\u001b[39;49;00m\u001b[38;5;124;43m, \u001b[39;49m\u001b[38;5;132;43;01m%s\u001b[39;49;00m\u001b[38;5;124;43m, \u001b[39;49m\u001b[38;5;132;43;01m%s\u001b[39;49;00m\u001b[38;5;124;43m, \u001b[39;49m\u001b[38;5;132;43;01m%s\u001b[39;49;00m\u001b[38;5;124;43m, \u001b[39;49m\u001b[38;5;132;43;01m%s\u001b[39;49;00m\u001b[38;5;124;43m, \u001b[39;49m\u001b[38;5;132;43;01m%s\u001b[39;49;00m\u001b[38;5;124;43m)\u001b[39;49m\u001b[38;5;124;43m\"\u001b[39;49m\u001b[43m,\u001b[49m\u001b[43m \u001b[49m\n\u001b[0;32m      8\u001b[0m \u001b[43m    \u001b[49m\u001b[38;5;28;43mtuple\u001b[39;49m\u001b[43m(\u001b[49m\u001b[43mrow\u001b[49m\u001b[43m[\u001b[49m\u001b[43m[\u001b[49m\u001b[38;5;124;43m'\u001b[39;49m\u001b[38;5;124;43mCASE_NUMBER\u001b[39;49m\u001b[38;5;124;43m'\u001b[39;49m\u001b[43m,\u001b[49m\u001b[43m \u001b[49m\u001b[38;5;124;43m'\u001b[39;49m\u001b[38;5;124;43mCASE_STATUS\u001b[39;49m\u001b[38;5;124;43m'\u001b[39;49m\u001b[43m,\u001b[49m\u001b[43m \u001b[49m\u001b[38;5;124;43m'\u001b[39;49m\u001b[38;5;124;43mRECEIVED_DATE\u001b[39;49m\u001b[38;5;124;43m'\u001b[39;49m\u001b[43m,\u001b[49m\u001b[43m \u001b[49m\u001b[38;5;124;43m'\u001b[39;49m\u001b[38;5;124;43mDECISION_DATE\u001b[39;49m\u001b[38;5;124;43m'\u001b[39;49m\u001b[43m,\u001b[49m\u001b[43m \u001b[49m\u001b[38;5;124;43m'\u001b[39;49m\u001b[38;5;124;43mVISA_CLASS\u001b[39;49m\u001b[38;5;124;43m'\u001b[39;49m\u001b[43m,\u001b[49m\u001b[43m \u001b[49m\u001b[38;5;124;43m'\u001b[39;49m\u001b[38;5;124;43mJOB_TITLE\u001b[39;49m\u001b[38;5;124;43m'\u001b[39;49m\u001b[43m,\u001b[49m\u001b[43m \u001b[49m\n\u001b[0;32m      9\u001b[0m \u001b[43m    \u001b[49m\u001b[38;5;124;43m'\u001b[39;49m\u001b[38;5;124;43mSOC_CODE\u001b[39;49m\u001b[38;5;124;43m'\u001b[39;49m\u001b[43m,\u001b[49m\u001b[43m \u001b[49m\u001b[38;5;124;43m'\u001b[39;49m\u001b[38;5;124;43mSOC_TITLE\u001b[39;49m\u001b[38;5;124;43m'\u001b[39;49m\u001b[43m,\u001b[49m\u001b[43m \u001b[49m\u001b[38;5;124;43m'\u001b[39;49m\u001b[38;5;124;43mFULL_TIME_POSITION\u001b[39;49m\u001b[38;5;124;43m'\u001b[39;49m\u001b[43m,\u001b[49m\u001b[43m \u001b[49m\u001b[38;5;124;43m'\u001b[39;49m\u001b[38;5;124;43mBEGIN_DATE\u001b[39;49m\u001b[38;5;124;43m'\u001b[39;49m\u001b[43m,\u001b[49m\u001b[43m \u001b[49m\u001b[38;5;124;43m'\u001b[39;49m\u001b[38;5;124;43mEND_DATE\u001b[39;49m\u001b[38;5;124;43m'\u001b[39;49m\u001b[43m,\u001b[49m\u001b[43m \u001b[49m\u001b[38;5;124;43m'\u001b[39;49m\u001b[38;5;124;43mTOTAL_WORKER_POSITIONS\u001b[39;49m\u001b[38;5;124;43m'\u001b[39;49m\u001b[43m,\u001b[49m\u001b[43m \u001b[49m\n\u001b[0;32m     10\u001b[0m \u001b[43m    \u001b[49m\u001b[38;5;124;43m'\u001b[39;49m\u001b[38;5;124;43mNEW_EMPLOYMENT\u001b[39;49m\u001b[38;5;124;43m'\u001b[39;49m\u001b[43m,\u001b[49m\u001b[43m \u001b[49m\u001b[38;5;124;43m'\u001b[39;49m\u001b[38;5;124;43mCONTINUED_EMPLOYMENT\u001b[39;49m\u001b[38;5;124;43m'\u001b[39;49m\u001b[43m,\u001b[49m\u001b[43m \u001b[49m\u001b[38;5;124;43m'\u001b[39;49m\u001b[38;5;124;43mCHANGE_PREVIOUS_EMPLOYMENT\u001b[39;49m\u001b[38;5;124;43m'\u001b[39;49m\u001b[43m,\u001b[49m\u001b[43m \u001b[49m\u001b[38;5;124;43m'\u001b[39;49m\u001b[38;5;124;43mNEW_CONCURRENT_EMPLOYMENT\u001b[39;49m\u001b[38;5;124;43m'\u001b[39;49m\u001b[43m,\u001b[49m\u001b[43m \u001b[49m\n\u001b[0;32m     11\u001b[0m \u001b[43m    \u001b[49m\u001b[38;5;124;43m'\u001b[39;49m\u001b[38;5;124;43mCHANGE_EMPLOYER\u001b[39;49m\u001b[38;5;124;43m'\u001b[39;49m\u001b[43m,\u001b[49m\u001b[43m \u001b[49m\u001b[38;5;124;43m'\u001b[39;49m\u001b[38;5;124;43mAMENDED_PETITION\u001b[39;49m\u001b[38;5;124;43m'\u001b[39;49m\u001b[43m]\u001b[49m\u001b[43m]\u001b[49m\u001b[43m)\u001b[49m\u001b[43m)\u001b[49m\n\u001b[0;32m     13\u001b[0m \u001b[38;5;66;03m# Insert data into Employer table\u001b[39;00m\n\u001b[0;32m     14\u001b[0m \u001b[38;5;28;01mfor\u001b[39;00m index, row \u001b[38;5;129;01min\u001b[39;00m df\u001b[38;5;241m.\u001b[39miterrows():\n",
      "File \u001b[1;32m~\\AppData\\Local\\Programs\\Python\\Python311\\Lib\\site-packages\\psycopg\\cursor.py:723\u001b[0m, in \u001b[0;36mCursor.execute\u001b[1;34m(self, query, params, prepare, binary)\u001b[0m\n\u001b[0;32m    719\u001b[0m         \u001b[38;5;28mself\u001b[39m\u001b[38;5;241m.\u001b[39m_conn\u001b[38;5;241m.\u001b[39mwait(\n\u001b[0;32m    720\u001b[0m             \u001b[38;5;28mself\u001b[39m\u001b[38;5;241m.\u001b[39m_execute_gen(query, params, prepare\u001b[38;5;241m=\u001b[39mprepare, binary\u001b[38;5;241m=\u001b[39mbinary)\n\u001b[0;32m    721\u001b[0m         )\n\u001b[0;32m    722\u001b[0m \u001b[38;5;28;01mexcept\u001b[39;00m e\u001b[38;5;241m.\u001b[39mError \u001b[38;5;28;01mas\u001b[39;00m ex:\n\u001b[1;32m--> 723\u001b[0m     \u001b[38;5;28;01mraise\u001b[39;00m ex\u001b[38;5;241m.\u001b[39mwith_traceback(\u001b[38;5;28;01mNone\u001b[39;00m)\n\u001b[0;32m    724\u001b[0m \u001b[38;5;28;01mreturn\u001b[39;00m \u001b[38;5;28mself\u001b[39m\n",
      "\u001b[1;31mDatatypeMismatch\u001b[0m: column \"new_employment\" is of type boolean but expression is of type smallint\nLINE 1: ...1, $2, $3, $4, $5, $6, $7, $8, $9, $10, $11, $12, $13, $14, ...\n                                                             ^\nHINT:  You will need to rewrite or cast the expression."
     ]
    }
   ],
   "source": [
    "# Insert data into Job table\n",
    "for index, row in df.iterrows():\n",
    "    cur.execute(\"INSERT INTO Job (case_number, case_status, received_date, decision_date, visa_class, \\\n",
    "    job_title, soc_code, soc_title, full_time_position, begin_date, end_date, total_worker_positions, \\\n",
    "    new_employment, continued_employment, change_previous_employment, new_concurrent_employment, \\\n",
    "    change_employer, amended_petition) \\\n",
    "    VALUES (%s, %s, %s, %s, %s, %s, %s, %s, %s, %s, %s, %s, %s, %s, %s, %s, %s, %s)\", \n",
    "    tuple(row[['CASE_NUMBER', 'CASE_STATUS', 'RECEIVED_DATE', 'DECISION_DATE', 'VISA_CLASS', 'JOB_TITLE', \n",
    "    'SOC_CODE', 'SOC_TITLE', 'FULL_TIME_POSITION', 'BEGIN_DATE', 'END_DATE', 'TOTAL_WORKER_POSITIONS', \n",
    "    'NEW_EMPLOYMENT', 'CONTINUED_EMPLOYMENT', 'CHANGE_PREVIOUS_EMPLOYMENT', 'NEW_CONCURRENT_EMPLOYMENT', \n",
    "    'CHANGE_EMPLOYER', 'AMENDED_PETITION']]))\n",
    "\n",
    "# Insert data into Employer table\n",
    "for index, row in df.iterrows():\n",
    "    cur.execute(\"\"\"\n",
    "        INSERT INTO Employer ( case_number, employer_name, trade_name_dba, employer_address1, employer_address2,\n",
    "        employer_city, employer_state, employer_postal_code, employer_country, naics_code, employer_poc_last_name,\n",
    "        employer_poc_first_name, employer_poc_middle_name, employer_poc_job_title, employer_poc_address1,\n",
    "        employer_poc_address2, employer_poc_city, employer_poc_state, employer_poc_postal_code, employer_poc_country,\n",
    "        employer_poc_phone, employer_poc_phone_ext, employer_poc_email, employer_poc_address_1, employer_poc_address_2,\n",
    "        h1b_dependent, h_1b_dependent) VALUES %s\"\"\",\n",
    "        tuple(row[[ \"CASE_NUMBER\", \"EMPLOYER_NAME\", \"TRADE_NAME_DBA\", \"EMPLOYER_ADDRESS1\", \"EMPLOYER_ADDRESS2\",\n",
    "        \"EMPLOYER_CITY\", \"EMPLOYER_STATE\", \"EMPLOYER_POSTAL_CODE\", \"EMPLOYER_COUNTRY\", \"NAICS_CODE\", \"EMPLOYER_POC_LAST_NAME\",\n",
    "        \"EMPLOYER_POC_FIRST_NAME\", \"EMPLOYER_POC_MIDDLE_NAME\", \"EMPLOYER_POC_JOB_TITLE\", \"EMPLOYER_POC_ADDRESS1\",\n",
    "        \"EMPLOYER_POC_ADDRESS2\", \"EMPLOYER_POC_CITY\", \"EMPLOYER_POC_STATE\", \"EMPLOYER_POC_POSTAL_CODE\",\n",
    "        \"EMPLOYER_POC_COUNTRY\", \"EMPLOYER_POC_PHONE\", \"EMPLOYER_POC_PHONE_EXT\", \"EMPLOYER_POC_EMAIL\",\n",
    "        \"EMPLOYER_POC_ADDRESS_1\", \"EMPLOYER_POC_ADDRESS_2\", \"H1B_DEPENDENT\", \"H_1B_DEPENDENT\" ]]))\n",
    "\n",
    "conn.commit()"
   ]
  }
 ],
 "metadata": {
  "kernelspec": {
   "display_name": "Python 3 (ipykernel)",
   "language": "python",
   "name": "python3"
  },
  "language_info": {
   "codemirror_mode": {
    "name": "ipython",
    "version": 3
   },
   "file_extension": ".py",
   "mimetype": "text/x-python",
   "name": "python",
   "nbconvert_exporter": "python",
   "pygments_lexer": "ipython3",
   "version": "3.11.1"
  }
 },
 "nbformat": 4,
 "nbformat_minor": 5
}
